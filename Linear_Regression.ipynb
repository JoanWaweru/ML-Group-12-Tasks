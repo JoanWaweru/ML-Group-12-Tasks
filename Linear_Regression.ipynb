{
  "nbformat": 4,
  "nbformat_minor": 0,
  "metadata": {
    "colab": {
      "name": "Linear Regression.ipynb",
      "provenance": [],
      "authorship_tag": "ABX9TyN36SONg7j0A/uHOeenhy66",
      "include_colab_link": true
    },
    "kernelspec": {
      "name": "python3",
      "display_name": "Python 3"
    },
    "language_info": {
      "name": "python"
    }
  },
  "cells": [
    {
      "cell_type": "markdown",
      "metadata": {
        "id": "view-in-github",
        "colab_type": "text"
      },
      "source": [
        "<a href=\"https://colab.research.google.com/github/JoanWaweru/ML-Group-5-Tasks/blob/main/Linear_Regression.ipynb\" target=\"_parent\"><img src=\"https://colab.research.google.com/assets/colab-badge.svg\" alt=\"Open In Colab\"/></a>"
      ]
    },
    {
      "cell_type": "code",
      "execution_count": 1,
      "metadata": {
        "id": "GqRRvXzoZc02"
      },
      "outputs": [],
      "source": [
        "from scipy import stats\n",
        "import matplotlib.pyplot as plt\n",
        "from numpy import random\n",
        "import pandas as pd"
      ]
    },
    {
      "cell_type": "code",
      "source": [
        "size=100"
      ],
      "metadata": {
        "id": "wFmFJUIfrMVa"
      },
      "execution_count": 2,
      "outputs": []
    },
    {
      "cell_type": "code",
      "source": [
        "fake_data={'Office Size':random.normal(500,50,size), 'Office Price':random.normal(5000,500,size)}"
      ],
      "metadata": {
        "id": "tT1_4aa8rSuf"
      },
      "execution_count": 3,
      "outputs": []
    },
    {
      "cell_type": "code",
      "source": [
        "table=pd.DataFrame(fake_data)"
      ],
      "metadata": {
        "id": "gZbghrgLsffu"
      },
      "execution_count": 4,
      "outputs": []
    },
    {
      "cell_type": "code",
      "source": [
        "table"
      ],
      "metadata": {
        "colab": {
          "base_uri": "https://localhost:8080/",
          "height": 424
        },
        "id": "oQkopJ7MsmEm",
        "outputId": "f49411b1-ee95-49dc-c937-7fbab11e654d"
      },
      "execution_count": 5,
      "outputs": [
        {
          "output_type": "execute_result",
          "data": {
            "text/plain": [
              "    Office Size  Office Price\n",
              "0    530.172342   4764.053418\n",
              "1    548.890228   4613.563890\n",
              "2    503.925050   4625.608958\n",
              "3    486.983123   5567.476895\n",
              "4    421.115098   4312.496411\n",
              "..          ...           ...\n",
              "95   488.384252   5482.762605\n",
              "96   433.578851   5191.328076\n",
              "97   470.966300   4976.988522\n",
              "98   520.838767   5412.946830\n",
              "99   521.249109   5998.455107\n",
              "\n",
              "[100 rows x 2 columns]"
            ],
            "text/html": [
              "\n",
              "  <div id=\"df-875cb5be-c438-4705-b968-44d8ce6083b3\">\n",
              "    <div class=\"colab-df-container\">\n",
              "      <div>\n",
              "<style scoped>\n",
              "    .dataframe tbody tr th:only-of-type {\n",
              "        vertical-align: middle;\n",
              "    }\n",
              "\n",
              "    .dataframe tbody tr th {\n",
              "        vertical-align: top;\n",
              "    }\n",
              "\n",
              "    .dataframe thead th {\n",
              "        text-align: right;\n",
              "    }\n",
              "</style>\n",
              "<table border=\"1\" class=\"dataframe\">\n",
              "  <thead>\n",
              "    <tr style=\"text-align: right;\">\n",
              "      <th></th>\n",
              "      <th>Office Size</th>\n",
              "      <th>Office Price</th>\n",
              "    </tr>\n",
              "  </thead>\n",
              "  <tbody>\n",
              "    <tr>\n",
              "      <th>0</th>\n",
              "      <td>530.172342</td>\n",
              "      <td>4764.053418</td>\n",
              "    </tr>\n",
              "    <tr>\n",
              "      <th>1</th>\n",
              "      <td>548.890228</td>\n",
              "      <td>4613.563890</td>\n",
              "    </tr>\n",
              "    <tr>\n",
              "      <th>2</th>\n",
              "      <td>503.925050</td>\n",
              "      <td>4625.608958</td>\n",
              "    </tr>\n",
              "    <tr>\n",
              "      <th>3</th>\n",
              "      <td>486.983123</td>\n",
              "      <td>5567.476895</td>\n",
              "    </tr>\n",
              "    <tr>\n",
              "      <th>4</th>\n",
              "      <td>421.115098</td>\n",
              "      <td>4312.496411</td>\n",
              "    </tr>\n",
              "    <tr>\n",
              "      <th>...</th>\n",
              "      <td>...</td>\n",
              "      <td>...</td>\n",
              "    </tr>\n",
              "    <tr>\n",
              "      <th>95</th>\n",
              "      <td>488.384252</td>\n",
              "      <td>5482.762605</td>\n",
              "    </tr>\n",
              "    <tr>\n",
              "      <th>96</th>\n",
              "      <td>433.578851</td>\n",
              "      <td>5191.328076</td>\n",
              "    </tr>\n",
              "    <tr>\n",
              "      <th>97</th>\n",
              "      <td>470.966300</td>\n",
              "      <td>4976.988522</td>\n",
              "    </tr>\n",
              "    <tr>\n",
              "      <th>98</th>\n",
              "      <td>520.838767</td>\n",
              "      <td>5412.946830</td>\n",
              "    </tr>\n",
              "    <tr>\n",
              "      <th>99</th>\n",
              "      <td>521.249109</td>\n",
              "      <td>5998.455107</td>\n",
              "    </tr>\n",
              "  </tbody>\n",
              "</table>\n",
              "<p>100 rows × 2 columns</p>\n",
              "</div>\n",
              "      <button class=\"colab-df-convert\" onclick=\"convertToInteractive('df-875cb5be-c438-4705-b968-44d8ce6083b3')\"\n",
              "              title=\"Convert this dataframe to an interactive table.\"\n",
              "              style=\"display:none;\">\n",
              "        \n",
              "  <svg xmlns=\"http://www.w3.org/2000/svg\" height=\"24px\"viewBox=\"0 0 24 24\"\n",
              "       width=\"24px\">\n",
              "    <path d=\"M0 0h24v24H0V0z\" fill=\"none\"/>\n",
              "    <path d=\"M18.56 5.44l.94 2.06.94-2.06 2.06-.94-2.06-.94-.94-2.06-.94 2.06-2.06.94zm-11 1L8.5 8.5l.94-2.06 2.06-.94-2.06-.94L8.5 2.5l-.94 2.06-2.06.94zm10 10l.94 2.06.94-2.06 2.06-.94-2.06-.94-.94-2.06-.94 2.06-2.06.94z\"/><path d=\"M17.41 7.96l-1.37-1.37c-.4-.4-.92-.59-1.43-.59-.52 0-1.04.2-1.43.59L10.3 9.45l-7.72 7.72c-.78.78-.78 2.05 0 2.83L4 21.41c.39.39.9.59 1.41.59.51 0 1.02-.2 1.41-.59l7.78-7.78 2.81-2.81c.8-.78.8-2.07 0-2.86zM5.41 20L4 18.59l7.72-7.72 1.47 1.35L5.41 20z\"/>\n",
              "  </svg>\n",
              "      </button>\n",
              "      \n",
              "  <style>\n",
              "    .colab-df-container {\n",
              "      display:flex;\n",
              "      flex-wrap:wrap;\n",
              "      gap: 12px;\n",
              "    }\n",
              "\n",
              "    .colab-df-convert {\n",
              "      background-color: #E8F0FE;\n",
              "      border: none;\n",
              "      border-radius: 50%;\n",
              "      cursor: pointer;\n",
              "      display: none;\n",
              "      fill: #1967D2;\n",
              "      height: 32px;\n",
              "      padding: 0 0 0 0;\n",
              "      width: 32px;\n",
              "    }\n",
              "\n",
              "    .colab-df-convert:hover {\n",
              "      background-color: #E2EBFA;\n",
              "      box-shadow: 0px 1px 2px rgba(60, 64, 67, 0.3), 0px 1px 3px 1px rgba(60, 64, 67, 0.15);\n",
              "      fill: #174EA6;\n",
              "    }\n",
              "\n",
              "    [theme=dark] .colab-df-convert {\n",
              "      background-color: #3B4455;\n",
              "      fill: #D2E3FC;\n",
              "    }\n",
              "\n",
              "    [theme=dark] .colab-df-convert:hover {\n",
              "      background-color: #434B5C;\n",
              "      box-shadow: 0px 1px 3px 1px rgba(0, 0, 0, 0.15);\n",
              "      filter: drop-shadow(0px 1px 2px rgba(0, 0, 0, 0.3));\n",
              "      fill: #FFFFFF;\n",
              "    }\n",
              "  </style>\n",
              "\n",
              "      <script>\n",
              "        const buttonEl =\n",
              "          document.querySelector('#df-875cb5be-c438-4705-b968-44d8ce6083b3 button.colab-df-convert');\n",
              "        buttonEl.style.display =\n",
              "          google.colab.kernel.accessAllowed ? 'block' : 'none';\n",
              "\n",
              "        async function convertToInteractive(key) {\n",
              "          const element = document.querySelector('#df-875cb5be-c438-4705-b968-44d8ce6083b3');\n",
              "          const dataTable =\n",
              "            await google.colab.kernel.invokeFunction('convertToInteractive',\n",
              "                                                     [key], {});\n",
              "          if (!dataTable) return;\n",
              "\n",
              "          const docLinkHtml = 'Like what you see? Visit the ' +\n",
              "            '<a target=\"_blank\" href=https://colab.research.google.com/notebooks/data_table.ipynb>data table notebook</a>'\n",
              "            + ' to learn more about interactive tables.';\n",
              "          element.innerHTML = '';\n",
              "          dataTable['output_type'] = 'display_data';\n",
              "          await google.colab.output.renderOutput(dataTable, element);\n",
              "          const docLink = document.createElement('div');\n",
              "          docLink.innerHTML = docLinkHtml;\n",
              "          element.appendChild(docLink);\n",
              "        }\n",
              "      </script>\n",
              "    </div>\n",
              "  </div>\n",
              "  "
            ]
          },
          "metadata": {},
          "execution_count": 5
        }
      ]
    },
    {
      "cell_type": "code",
      "source": [
        "m=10\n",
        "c=0.5"
      ],
      "metadata": {
        "id": "wgwGLz3BtHVs"
      },
      "execution_count": 6,
      "outputs": []
    },
    {
      "cell_type": "code",
      "source": [
        "def y (row):\n",
        "  yPredict = (fake_data['Office Size'] * m) + c\n",
        "  return yPredict\n",
        "#yPredict = (fake_data['Office Size'] * m) + c"
      ],
      "metadata": {
        "id": "eINSoFhV2bS3"
      },
      "execution_count": 7,
      "outputs": []
    },
    {
      "cell_type": "code",
      "source": [
        "#y"
      ],
      "metadata": {
        "id": "NrlYoMKblsR-"
      },
      "execution_count": 30,
      "outputs": []
    },
    {
      "cell_type": "code",
      "source": [
        "table['y'] = table.apply (lambda row: y(row), axis=1)\n",
        "#table.assign(yPredict=fake_data['yPredict'])"
      ],
      "metadata": {
        "id": "YcJCDdUy2lGF"
      },
      "execution_count": 9,
      "outputs": []
    },
    {
      "cell_type": "code",
      "source": [
        "table"
      ],
      "metadata": {
        "colab": {
          "base_uri": "https://localhost:8080/",
          "height": 424
        },
        "id": "15h_tWXD2p2f",
        "outputId": "a520409e-52ca-40e0-8507-bac592048635"
      },
      "execution_count": 10,
      "outputs": [
        {
          "output_type": "execute_result",
          "data": {
            "text/plain": [
              "    Office Size  Office Price  \\\n",
              "0    530.172342   4764.053418   \n",
              "1    548.890228   4613.563890   \n",
              "2    503.925050   4625.608958   \n",
              "3    486.983123   5567.476895   \n",
              "4    421.115098   4312.496411   \n",
              "..          ...           ...   \n",
              "95   488.384252   5482.762605   \n",
              "96   433.578851   5191.328076   \n",
              "97   470.966300   4976.988522   \n",
              "98   520.838767   5412.946830   \n",
              "99   521.249109   5998.455107   \n",
              "\n",
              "                                                    y  \n",
              "0   [5302.2234161814995, 5489.402283252405, 5039.7...  \n",
              "1   [5302.2234161814995, 5489.402283252405, 5039.7...  \n",
              "2   [5302.2234161814995, 5489.402283252405, 5039.7...  \n",
              "3   [5302.2234161814995, 5489.402283252405, 5039.7...  \n",
              "4   [5302.2234161814995, 5489.402283252405, 5039.7...  \n",
              "..                                                ...  \n",
              "95  [5302.2234161814995, 5489.402283252405, 5039.7...  \n",
              "96  [5302.2234161814995, 5489.402283252405, 5039.7...  \n",
              "97  [5302.2234161814995, 5489.402283252405, 5039.7...  \n",
              "98  [5302.2234161814995, 5489.402283252405, 5039.7...  \n",
              "99  [5302.2234161814995, 5489.402283252405, 5039.7...  \n",
              "\n",
              "[100 rows x 3 columns]"
            ],
            "text/html": [
              "\n",
              "  <div id=\"df-159ff7bf-9efa-4009-8c2c-ca1a9abe65c6\">\n",
              "    <div class=\"colab-df-container\">\n",
              "      <div>\n",
              "<style scoped>\n",
              "    .dataframe tbody tr th:only-of-type {\n",
              "        vertical-align: middle;\n",
              "    }\n",
              "\n",
              "    .dataframe tbody tr th {\n",
              "        vertical-align: top;\n",
              "    }\n",
              "\n",
              "    .dataframe thead th {\n",
              "        text-align: right;\n",
              "    }\n",
              "</style>\n",
              "<table border=\"1\" class=\"dataframe\">\n",
              "  <thead>\n",
              "    <tr style=\"text-align: right;\">\n",
              "      <th></th>\n",
              "      <th>Office Size</th>\n",
              "      <th>Office Price</th>\n",
              "      <th>y</th>\n",
              "    </tr>\n",
              "  </thead>\n",
              "  <tbody>\n",
              "    <tr>\n",
              "      <th>0</th>\n",
              "      <td>530.172342</td>\n",
              "      <td>4764.053418</td>\n",
              "      <td>[5302.2234161814995, 5489.402283252405, 5039.7...</td>\n",
              "    </tr>\n",
              "    <tr>\n",
              "      <th>1</th>\n",
              "      <td>548.890228</td>\n",
              "      <td>4613.563890</td>\n",
              "      <td>[5302.2234161814995, 5489.402283252405, 5039.7...</td>\n",
              "    </tr>\n",
              "    <tr>\n",
              "      <th>2</th>\n",
              "      <td>503.925050</td>\n",
              "      <td>4625.608958</td>\n",
              "      <td>[5302.2234161814995, 5489.402283252405, 5039.7...</td>\n",
              "    </tr>\n",
              "    <tr>\n",
              "      <th>3</th>\n",
              "      <td>486.983123</td>\n",
              "      <td>5567.476895</td>\n",
              "      <td>[5302.2234161814995, 5489.402283252405, 5039.7...</td>\n",
              "    </tr>\n",
              "    <tr>\n",
              "      <th>4</th>\n",
              "      <td>421.115098</td>\n",
              "      <td>4312.496411</td>\n",
              "      <td>[5302.2234161814995, 5489.402283252405, 5039.7...</td>\n",
              "    </tr>\n",
              "    <tr>\n",
              "      <th>...</th>\n",
              "      <td>...</td>\n",
              "      <td>...</td>\n",
              "      <td>...</td>\n",
              "    </tr>\n",
              "    <tr>\n",
              "      <th>95</th>\n",
              "      <td>488.384252</td>\n",
              "      <td>5482.762605</td>\n",
              "      <td>[5302.2234161814995, 5489.402283252405, 5039.7...</td>\n",
              "    </tr>\n",
              "    <tr>\n",
              "      <th>96</th>\n",
              "      <td>433.578851</td>\n",
              "      <td>5191.328076</td>\n",
              "      <td>[5302.2234161814995, 5489.402283252405, 5039.7...</td>\n",
              "    </tr>\n",
              "    <tr>\n",
              "      <th>97</th>\n",
              "      <td>470.966300</td>\n",
              "      <td>4976.988522</td>\n",
              "      <td>[5302.2234161814995, 5489.402283252405, 5039.7...</td>\n",
              "    </tr>\n",
              "    <tr>\n",
              "      <th>98</th>\n",
              "      <td>520.838767</td>\n",
              "      <td>5412.946830</td>\n",
              "      <td>[5302.2234161814995, 5489.402283252405, 5039.7...</td>\n",
              "    </tr>\n",
              "    <tr>\n",
              "      <th>99</th>\n",
              "      <td>521.249109</td>\n",
              "      <td>5998.455107</td>\n",
              "      <td>[5302.2234161814995, 5489.402283252405, 5039.7...</td>\n",
              "    </tr>\n",
              "  </tbody>\n",
              "</table>\n",
              "<p>100 rows × 3 columns</p>\n",
              "</div>\n",
              "      <button class=\"colab-df-convert\" onclick=\"convertToInteractive('df-159ff7bf-9efa-4009-8c2c-ca1a9abe65c6')\"\n",
              "              title=\"Convert this dataframe to an interactive table.\"\n",
              "              style=\"display:none;\">\n",
              "        \n",
              "  <svg xmlns=\"http://www.w3.org/2000/svg\" height=\"24px\"viewBox=\"0 0 24 24\"\n",
              "       width=\"24px\">\n",
              "    <path d=\"M0 0h24v24H0V0z\" fill=\"none\"/>\n",
              "    <path d=\"M18.56 5.44l.94 2.06.94-2.06 2.06-.94-2.06-.94-.94-2.06-.94 2.06-2.06.94zm-11 1L8.5 8.5l.94-2.06 2.06-.94-2.06-.94L8.5 2.5l-.94 2.06-2.06.94zm10 10l.94 2.06.94-2.06 2.06-.94-2.06-.94-.94-2.06-.94 2.06-2.06.94z\"/><path d=\"M17.41 7.96l-1.37-1.37c-.4-.4-.92-.59-1.43-.59-.52 0-1.04.2-1.43.59L10.3 9.45l-7.72 7.72c-.78.78-.78 2.05 0 2.83L4 21.41c.39.39.9.59 1.41.59.51 0 1.02-.2 1.41-.59l7.78-7.78 2.81-2.81c.8-.78.8-2.07 0-2.86zM5.41 20L4 18.59l7.72-7.72 1.47 1.35L5.41 20z\"/>\n",
              "  </svg>\n",
              "      </button>\n",
              "      \n",
              "  <style>\n",
              "    .colab-df-container {\n",
              "      display:flex;\n",
              "      flex-wrap:wrap;\n",
              "      gap: 12px;\n",
              "    }\n",
              "\n",
              "    .colab-df-convert {\n",
              "      background-color: #E8F0FE;\n",
              "      border: none;\n",
              "      border-radius: 50%;\n",
              "      cursor: pointer;\n",
              "      display: none;\n",
              "      fill: #1967D2;\n",
              "      height: 32px;\n",
              "      padding: 0 0 0 0;\n",
              "      width: 32px;\n",
              "    }\n",
              "\n",
              "    .colab-df-convert:hover {\n",
              "      background-color: #E2EBFA;\n",
              "      box-shadow: 0px 1px 2px rgba(60, 64, 67, 0.3), 0px 1px 3px 1px rgba(60, 64, 67, 0.15);\n",
              "      fill: #174EA6;\n",
              "    }\n",
              "\n",
              "    [theme=dark] .colab-df-convert {\n",
              "      background-color: #3B4455;\n",
              "      fill: #D2E3FC;\n",
              "    }\n",
              "\n",
              "    [theme=dark] .colab-df-convert:hover {\n",
              "      background-color: #434B5C;\n",
              "      box-shadow: 0px 1px 3px 1px rgba(0, 0, 0, 0.15);\n",
              "      filter: drop-shadow(0px 1px 2px rgba(0, 0, 0, 0.3));\n",
              "      fill: #FFFFFF;\n",
              "    }\n",
              "  </style>\n",
              "\n",
              "      <script>\n",
              "        const buttonEl =\n",
              "          document.querySelector('#df-159ff7bf-9efa-4009-8c2c-ca1a9abe65c6 button.colab-df-convert');\n",
              "        buttonEl.style.display =\n",
              "          google.colab.kernel.accessAllowed ? 'block' : 'none';\n",
              "\n",
              "        async function convertToInteractive(key) {\n",
              "          const element = document.querySelector('#df-159ff7bf-9efa-4009-8c2c-ca1a9abe65c6');\n",
              "          const dataTable =\n",
              "            await google.colab.kernel.invokeFunction('convertToInteractive',\n",
              "                                                     [key], {});\n",
              "          if (!dataTable) return;\n",
              "\n",
              "          const docLinkHtml = 'Like what you see? Visit the ' +\n",
              "            '<a target=\"_blank\" href=https://colab.research.google.com/notebooks/data_table.ipynb>data table notebook</a>'\n",
              "            + ' to learn more about interactive tables.';\n",
              "          element.innerHTML = '';\n",
              "          dataTable['output_type'] = 'display_data';\n",
              "          await google.colab.output.renderOutput(dataTable, element);\n",
              "          const docLink = document.createElement('div');\n",
              "          docLink.innerHTML = docLinkHtml;\n",
              "          element.appendChild(docLink);\n",
              "        }\n",
              "      </script>\n",
              "    </div>\n",
              "  </div>\n",
              "  "
            ]
          },
          "metadata": {},
          "execution_count": 10
        }
      ]
    },
    {
      "cell_type": "code",
      "source": [
        "def z (row):\n",
        "  return (row['Office Size']-row['y'])**2"
      ],
      "metadata": {
        "id": "fAupXw0m3WaN"
      },
      "execution_count": 11,
      "outputs": []
    },
    {
      "cell_type": "code",
      "source": [
        "table['Mean Squares'] = table.apply (lambda row: z(row), axis=1)"
      ],
      "metadata": {
        "id": "ZkV1Tco847Dp"
      },
      "execution_count": 12,
      "outputs": []
    },
    {
      "cell_type": "code",
      "source": [
        "table"
      ],
      "metadata": {
        "colab": {
          "base_uri": "https://localhost:8080/",
          "height": 424
        },
        "id": "DOdmqM6t8psT",
        "outputId": "bd2f6112-2d2e-4182-d70a-4b61522b2466"
      },
      "execution_count": 13,
      "outputs": [
        {
          "output_type": "execute_result",
          "data": {
            "text/plain": [
              "    Office Size  Office Price  \\\n",
              "0    530.172342   4764.053418   \n",
              "1    548.890228   4613.563890   \n",
              "2    503.925050   4625.608958   \n",
              "3    486.983123   5567.476895   \n",
              "4    421.115098   4312.496411   \n",
              "..          ...           ...   \n",
              "95   488.384252   5482.762605   \n",
              "96   433.578851   5191.328076   \n",
              "97   470.966300   4976.988522   \n",
              "98   520.838767   5412.946830   \n",
              "99   521.249109   5998.455107   \n",
              "\n",
              "                                                    y  \\\n",
              "0   [5302.2234161814995, 5489.402283252405, 5039.7...   \n",
              "1   [5302.2234161814995, 5489.402283252405, 5039.7...   \n",
              "2   [5302.2234161814995, 5489.402283252405, 5039.7...   \n",
              "3   [5302.2234161814995, 5489.402283252405, 5039.7...   \n",
              "4   [5302.2234161814995, 5489.402283252405, 5039.7...   \n",
              "..                                                ...   \n",
              "95  [5302.2234161814995, 5489.402283252405, 5039.7...   \n",
              "96  [5302.2234161814995, 5489.402283252405, 5039.7...   \n",
              "97  [5302.2234161814995, 5489.402283252405, 5039.7...   \n",
              "98  [5302.2234161814995, 5489.402283252405, 5039.7...   \n",
              "99  [5302.2234161814995, 5489.402283252405, 5039.7...   \n",
              "\n",
              "                                         Mean Squares  \n",
              "0   [22772471.458241217, 24593961.614001695, 20336...  \n",
              "1   [22594176.39477574, 24408659.36488064, 2016782...  \n",
              "2   [23023667.208137523, 24854983.24040777, 205737...  \n",
              "3   [23186539.080510054, 25024197.454269677, 20727...  \n",
              "4   [23825218.40956421, 25687534.987774108, 213317...  \n",
              "..                                                ...  \n",
              "95  [23173047.496412735, 25010181.346631434, 20714...  \n",
              "96  [23703699.90392147, 25561350.580033734, 212168...  \n",
              "97  [23341045.322426498, 25184699.717765823, 20873...  \n",
              "98  [22861639.159042526, 24686623.410476808, 20420...  \n",
              "99  [22857715.32828202, 24682545.96527875, 2041685...  \n",
              "\n",
              "[100 rows x 4 columns]"
            ],
            "text/html": [
              "\n",
              "  <div id=\"df-95e2e88a-0bbe-4146-aa71-691658a2be9e\">\n",
              "    <div class=\"colab-df-container\">\n",
              "      <div>\n",
              "<style scoped>\n",
              "    .dataframe tbody tr th:only-of-type {\n",
              "        vertical-align: middle;\n",
              "    }\n",
              "\n",
              "    .dataframe tbody tr th {\n",
              "        vertical-align: top;\n",
              "    }\n",
              "\n",
              "    .dataframe thead th {\n",
              "        text-align: right;\n",
              "    }\n",
              "</style>\n",
              "<table border=\"1\" class=\"dataframe\">\n",
              "  <thead>\n",
              "    <tr style=\"text-align: right;\">\n",
              "      <th></th>\n",
              "      <th>Office Size</th>\n",
              "      <th>Office Price</th>\n",
              "      <th>y</th>\n",
              "      <th>Mean Squares</th>\n",
              "    </tr>\n",
              "  </thead>\n",
              "  <tbody>\n",
              "    <tr>\n",
              "      <th>0</th>\n",
              "      <td>530.172342</td>\n",
              "      <td>4764.053418</td>\n",
              "      <td>[5302.2234161814995, 5489.402283252405, 5039.7...</td>\n",
              "      <td>[22772471.458241217, 24593961.614001695, 20336...</td>\n",
              "    </tr>\n",
              "    <tr>\n",
              "      <th>1</th>\n",
              "      <td>548.890228</td>\n",
              "      <td>4613.563890</td>\n",
              "      <td>[5302.2234161814995, 5489.402283252405, 5039.7...</td>\n",
              "      <td>[22594176.39477574, 24408659.36488064, 2016782...</td>\n",
              "    </tr>\n",
              "    <tr>\n",
              "      <th>2</th>\n",
              "      <td>503.925050</td>\n",
              "      <td>4625.608958</td>\n",
              "      <td>[5302.2234161814995, 5489.402283252405, 5039.7...</td>\n",
              "      <td>[23023667.208137523, 24854983.24040777, 205737...</td>\n",
              "    </tr>\n",
              "    <tr>\n",
              "      <th>3</th>\n",
              "      <td>486.983123</td>\n",
              "      <td>5567.476895</td>\n",
              "      <td>[5302.2234161814995, 5489.402283252405, 5039.7...</td>\n",
              "      <td>[23186539.080510054, 25024197.454269677, 20727...</td>\n",
              "    </tr>\n",
              "    <tr>\n",
              "      <th>4</th>\n",
              "      <td>421.115098</td>\n",
              "      <td>4312.496411</td>\n",
              "      <td>[5302.2234161814995, 5489.402283252405, 5039.7...</td>\n",
              "      <td>[23825218.40956421, 25687534.987774108, 213317...</td>\n",
              "    </tr>\n",
              "    <tr>\n",
              "      <th>...</th>\n",
              "      <td>...</td>\n",
              "      <td>...</td>\n",
              "      <td>...</td>\n",
              "      <td>...</td>\n",
              "    </tr>\n",
              "    <tr>\n",
              "      <th>95</th>\n",
              "      <td>488.384252</td>\n",
              "      <td>5482.762605</td>\n",
              "      <td>[5302.2234161814995, 5489.402283252405, 5039.7...</td>\n",
              "      <td>[23173047.496412735, 25010181.346631434, 20714...</td>\n",
              "    </tr>\n",
              "    <tr>\n",
              "      <th>96</th>\n",
              "      <td>433.578851</td>\n",
              "      <td>5191.328076</td>\n",
              "      <td>[5302.2234161814995, 5489.402283252405, 5039.7...</td>\n",
              "      <td>[23703699.90392147, 25561350.580033734, 212168...</td>\n",
              "    </tr>\n",
              "    <tr>\n",
              "      <th>97</th>\n",
              "      <td>470.966300</td>\n",
              "      <td>4976.988522</td>\n",
              "      <td>[5302.2234161814995, 5489.402283252405, 5039.7...</td>\n",
              "      <td>[23341045.322426498, 25184699.717765823, 20873...</td>\n",
              "    </tr>\n",
              "    <tr>\n",
              "      <th>98</th>\n",
              "      <td>520.838767</td>\n",
              "      <td>5412.946830</td>\n",
              "      <td>[5302.2234161814995, 5489.402283252405, 5039.7...</td>\n",
              "      <td>[22861639.159042526, 24686623.410476808, 20420...</td>\n",
              "    </tr>\n",
              "    <tr>\n",
              "      <th>99</th>\n",
              "      <td>521.249109</td>\n",
              "      <td>5998.455107</td>\n",
              "      <td>[5302.2234161814995, 5489.402283252405, 5039.7...</td>\n",
              "      <td>[22857715.32828202, 24682545.96527875, 2041685...</td>\n",
              "    </tr>\n",
              "  </tbody>\n",
              "</table>\n",
              "<p>100 rows × 4 columns</p>\n",
              "</div>\n",
              "      <button class=\"colab-df-convert\" onclick=\"convertToInteractive('df-95e2e88a-0bbe-4146-aa71-691658a2be9e')\"\n",
              "              title=\"Convert this dataframe to an interactive table.\"\n",
              "              style=\"display:none;\">\n",
              "        \n",
              "  <svg xmlns=\"http://www.w3.org/2000/svg\" height=\"24px\"viewBox=\"0 0 24 24\"\n",
              "       width=\"24px\">\n",
              "    <path d=\"M0 0h24v24H0V0z\" fill=\"none\"/>\n",
              "    <path d=\"M18.56 5.44l.94 2.06.94-2.06 2.06-.94-2.06-.94-.94-2.06-.94 2.06-2.06.94zm-11 1L8.5 8.5l.94-2.06 2.06-.94-2.06-.94L8.5 2.5l-.94 2.06-2.06.94zm10 10l.94 2.06.94-2.06 2.06-.94-2.06-.94-.94-2.06-.94 2.06-2.06.94z\"/><path d=\"M17.41 7.96l-1.37-1.37c-.4-.4-.92-.59-1.43-.59-.52 0-1.04.2-1.43.59L10.3 9.45l-7.72 7.72c-.78.78-.78 2.05 0 2.83L4 21.41c.39.39.9.59 1.41.59.51 0 1.02-.2 1.41-.59l7.78-7.78 2.81-2.81c.8-.78.8-2.07 0-2.86zM5.41 20L4 18.59l7.72-7.72 1.47 1.35L5.41 20z\"/>\n",
              "  </svg>\n",
              "      </button>\n",
              "      \n",
              "  <style>\n",
              "    .colab-df-container {\n",
              "      display:flex;\n",
              "      flex-wrap:wrap;\n",
              "      gap: 12px;\n",
              "    }\n",
              "\n",
              "    .colab-df-convert {\n",
              "      background-color: #E8F0FE;\n",
              "      border: none;\n",
              "      border-radius: 50%;\n",
              "      cursor: pointer;\n",
              "      display: none;\n",
              "      fill: #1967D2;\n",
              "      height: 32px;\n",
              "      padding: 0 0 0 0;\n",
              "      width: 32px;\n",
              "    }\n",
              "\n",
              "    .colab-df-convert:hover {\n",
              "      background-color: #E2EBFA;\n",
              "      box-shadow: 0px 1px 2px rgba(60, 64, 67, 0.3), 0px 1px 3px 1px rgba(60, 64, 67, 0.15);\n",
              "      fill: #174EA6;\n",
              "    }\n",
              "\n",
              "    [theme=dark] .colab-df-convert {\n",
              "      background-color: #3B4455;\n",
              "      fill: #D2E3FC;\n",
              "    }\n",
              "\n",
              "    [theme=dark] .colab-df-convert:hover {\n",
              "      background-color: #434B5C;\n",
              "      box-shadow: 0px 1px 3px 1px rgba(0, 0, 0, 0.15);\n",
              "      filter: drop-shadow(0px 1px 2px rgba(0, 0, 0, 0.3));\n",
              "      fill: #FFFFFF;\n",
              "    }\n",
              "  </style>\n",
              "\n",
              "      <script>\n",
              "        const buttonEl =\n",
              "          document.querySelector('#df-95e2e88a-0bbe-4146-aa71-691658a2be9e button.colab-df-convert');\n",
              "        buttonEl.style.display =\n",
              "          google.colab.kernel.accessAllowed ? 'block' : 'none';\n",
              "\n",
              "        async function convertToInteractive(key) {\n",
              "          const element = document.querySelector('#df-95e2e88a-0bbe-4146-aa71-691658a2be9e');\n",
              "          const dataTable =\n",
              "            await google.colab.kernel.invokeFunction('convertToInteractive',\n",
              "                                                     [key], {});\n",
              "          if (!dataTable) return;\n",
              "\n",
              "          const docLinkHtml = 'Like what you see? Visit the ' +\n",
              "            '<a target=\"_blank\" href=https://colab.research.google.com/notebooks/data_table.ipynb>data table notebook</a>'\n",
              "            + ' to learn more about interactive tables.';\n",
              "          element.innerHTML = '';\n",
              "          dataTable['output_type'] = 'display_data';\n",
              "          await google.colab.output.renderOutput(dataTable, element);\n",
              "          const docLink = document.createElement('div');\n",
              "          docLink.innerHTML = docLinkHtml;\n",
              "          element.appendChild(docLink);\n",
              "        }\n",
              "      </script>\n",
              "    </div>\n",
              "  </div>\n",
              "  "
            ]
          },
          "metadata": {},
          "execution_count": 13
        }
      ]
    },
    {
      "cell_type": "code",
      "source": [
        "meanSquareError = (table['Mean Squares'].sum())/size"
      ],
      "metadata": {
        "id": "EnE_I7rF8x2A"
      },
      "execution_count": 14,
      "outputs": []
    },
    {
      "cell_type": "code",
      "source": [
        "meanSquareError"
      ],
      "metadata": {
        "colab": {
          "base_uri": "https://localhost:8080/"
        },
        "id": "sHLL5L0w9FHg",
        "outputId": "89df4e6a-604f-471c-9d27-d501381ab645"
      },
      "execution_count": 15,
      "outputs": [
        {
          "output_type": "execute_result",
          "data": {
            "text/plain": [
              "array([23068394.55813889, 24901352.12590409, 20616138.03141135,\n",
              "       19106442.64037829, 13782394.76695869, 20750135.81290778,\n",
              "       19141776.95986121, 19867042.17482449, 23903703.83647158,\n",
              "       18422062.68590895, 23273311.68187077, 20325246.60804759,\n",
              "       24438116.94055001, 20882945.46647419, 15216526.69840799,\n",
              "       25010624.65072097, 20664813.3946058 , 23049884.81279445,\n",
              "       22721037.71675641, 18492933.21115097, 17103172.52976267,\n",
              "       24143949.2223271 , 27070844.38995879, 18471079.54143424,\n",
              "       16190561.86074397, 18643413.02605905, 26186108.39397711,\n",
              "       24995385.60436809, 18860830.51844299, 23888035.66827264,\n",
              "       16493500.36556186, 15429476.95309778, 11935180.15433025,\n",
              "       15710761.90381951, 28697690.23179669, 22555223.49505531,\n",
              "       16426684.20988151, 25326556.70058877,  9424257.42662003,\n",
              "       18111749.30506864, 21368327.32251369, 33831946.82970639,\n",
              "       23768689.05844139, 22274953.50127497, 21502057.46204014,\n",
              "       21101271.79589549, 16590315.76037344, 18509084.24828019,\n",
              "       32503576.22927995, 29311514.79041864, 15030618.08053592,\n",
              "       20341131.44303152, 17464546.88047352, 23817448.72175559,\n",
              "       15194823.10326011,  8037905.01301098, 21816056.34780191,\n",
              "       31037734.65359678, 19850719.70353821, 25369934.81821489,\n",
              "       23229805.42404251, 19315658.4662149 , 19985373.64606377,\n",
              "       23969539.13207972, 18303882.10621926, 16630012.10069555,\n",
              "       24400580.28454471, 17888131.63493687, 20705385.21469765,\n",
              "       14899440.99826539, 22025336.37018531, 16708580.74793351,\n",
              "       20312287.54793556, 19124526.08217154, 12264601.627009  ,\n",
              "       25714962.91097757, 20900562.30295992, 10947098.04388122,\n",
              "       19007644.35364623, 17089889.53899342, 23572880.74281256,\n",
              "       20877250.54081235, 29649741.64668513, 19928736.23082761,\n",
              "       23795008.86966226, 16960534.51537642, 16186741.14673289,\n",
              "       21394310.01813738, 18494289.1730115 , 24561665.82729984,\n",
              "       18679874.95036655, 21515182.72557532, 23145856.98105088,\n",
              "       16582477.44566135, 21391353.05472424, 19229119.81521981,\n",
              "       14723265.89319581, 17731972.74502216, 22180582.1031479 ,\n",
              "       22219247.73672441])"
            ]
          },
          "metadata": {},
          "execution_count": 15
        }
      ]
    },
    {
      "cell_type": "code",
      "source": [
        "learningRate=0.01"
      ],
      "metadata": {
        "id": "x8GFD1Ei--5Q"
      },
      "execution_count": 16,
      "outputs": []
    },
    {
      "cell_type": "code",
      "source": [
        "x=1"
      ],
      "metadata": {
        "id": "jtDEqY1m_Iej"
      },
      "execution_count": 17,
      "outputs": []
    },
    {
      "cell_type": "code",
      "source": [
        "newM = (m-(-2/size)*x*table['Mean Squares'].sum())"
      ],
      "metadata": {
        "id": "x0xZV_L3_N8x"
      },
      "execution_count": 18,
      "outputs": []
    },
    {
      "cell_type": "code",
      "source": [
        "newM"
      ],
      "metadata": {
        "colab": {
          "base_uri": "https://localhost:8080/"
        },
        "id": "eHDCrAiqBA_V",
        "outputId": "a0bc6064-8ead-4e62-c867-eec8201938d0"
      },
      "execution_count": 19,
      "outputs": [
        {
          "output_type": "execute_result",
          "data": {
            "text/plain": [
              "array([46136799.11627778, 49802714.25180817, 41232286.06282271,\n",
              "       38212895.28075657, 27564799.53391739, 41500281.62581556,\n",
              "       38283563.91972242, 39734094.34964898, 47807417.67294317,\n",
              "       36844135.37181791, 46546633.36374153, 40650503.21609519,\n",
              "       48876243.88110003, 41765900.93294837, 30433063.39681598,\n",
              "       50021259.30144195, 41329636.7892116 , 46099779.62558889,\n",
              "       45442085.43351282, 36985876.42230195, 34206355.05952534,\n",
              "       48287908.4446542 , 54141698.77991758, 36942169.08286847,\n",
              "       32381133.72148793, 37286836.05211811, 52372226.78795422,\n",
              "       49990781.20873619, 37721671.03688598, 47776081.33654529,\n",
              "       32987010.73112372, 30858963.90619557, 23870370.3086605 ,\n",
              "       31421533.80763902, 57395390.46359339, 45110456.99011063,\n",
              "       32853378.41976301, 50653123.40117755, 18848524.85324005,\n",
              "       36223508.61013728, 42736664.64502738, 67663903.65941277,\n",
              "       47537388.11688279, 44549917.00254995, 43004124.92408027,\n",
              "       42202553.59179097, 33180641.52074688, 37018178.49656037,\n",
              "       65007162.45855989, 58623039.58083727, 30061246.16107184,\n",
              "       40682272.88606305, 34929103.76094703, 47634907.44351118,\n",
              "       30389656.20652021, 16075820.02602197, 43632122.69560381,\n",
              "       62075479.30719357, 39701449.40707642, 50739879.63642979,\n",
              "       46459620.84808502, 38631326.93242981, 39970757.29212754,\n",
              "       47939088.26415945, 36607774.21243852, 33260034.2013911 ,\n",
              "       48801170.56908942, 35776273.26987375, 41410780.4293953 ,\n",
              "       29798891.99653079, 44050682.74037062, 33417171.49586701,\n",
              "       40624585.09587113, 38249062.16434307, 24529213.254018  ,\n",
              "       51429935.82195514, 41801134.60591984, 21894206.08776245,\n",
              "       38015298.70729247, 34179789.07798684, 47145771.48562513,\n",
              "       41754511.08162471, 59299493.29337025, 39857482.46165521,\n",
              "       47590027.73932452, 33921079.03075283, 32373492.29346577,\n",
              "       42788630.03627478, 36988588.346023  , 49123341.65459969,\n",
              "       37359759.90073309, 43030375.45115065, 46291723.96210176,\n",
              "       33164964.89132271, 42782716.10944849, 38458249.63043962,\n",
              "       29446541.78639162, 35463955.49004431, 44361174.2062958 ,\n",
              "       44438505.47344883])"
            ]
          },
          "metadata": {},
          "execution_count": 19
        }
      ]
    },
    {
      "cell_type": "code",
      "source": [
        "newC = (c-(-2/size)*table['Mean Squares'].sum())"
      ],
      "metadata": {
        "id": "TGWAsGzFBuM4"
      },
      "execution_count": 20,
      "outputs": []
    },
    {
      "cell_type": "code",
      "source": [
        "newC"
      ],
      "metadata": {
        "colab": {
          "base_uri": "https://localhost:8080/"
        },
        "id": "plvFKwEzB35N",
        "outputId": "7074cbb3-3cad-4279-9781-73eab0f7fe51"
      },
      "execution_count": 21,
      "outputs": [
        {
          "output_type": "execute_result",
          "data": {
            "text/plain": [
              "array([46136789.61627778, 49802704.75180817, 41232276.56282271,\n",
              "       38212885.78075657, 27564790.03391739, 41500272.12581556,\n",
              "       38283554.41972242, 39734084.84964898, 47807408.17294317,\n",
              "       36844125.87181791, 46546623.86374153, 40650493.71609519,\n",
              "       48876234.38110003, 41765891.43294837, 30433053.89681598,\n",
              "       50021249.80144195, 41329627.2892116 , 46099770.12558889,\n",
              "       45442075.93351282, 36985866.92230195, 34206345.55952534,\n",
              "       48287898.9446542 , 54141689.27991758, 36942159.58286847,\n",
              "       32381124.22148793, 37286826.55211811, 52372217.28795422,\n",
              "       49990771.70873619, 37721661.53688598, 47776071.83654529,\n",
              "       32987001.23112372, 30858954.40619557, 23870360.8086605 ,\n",
              "       31421524.30763902, 57395380.96359339, 45110447.49011063,\n",
              "       32853368.91976301, 50653113.90117755, 18848515.35324005,\n",
              "       36223499.11013728, 42736655.14502738, 67663894.15941277,\n",
              "       47537378.61688279, 44549907.50254995, 43004115.42408027,\n",
              "       42202544.09179097, 33180632.02074688, 37018168.99656037,\n",
              "       65007152.95855989, 58623030.08083727, 30061236.66107184,\n",
              "       40682263.38606305, 34929094.26094703, 47634897.94351118,\n",
              "       30389646.70652021, 16075810.52602197, 43632113.19560381,\n",
              "       62075469.80719357, 39701439.90707642, 50739870.13642979,\n",
              "       46459611.34808502, 38631317.43242981, 39970747.79212754,\n",
              "       47939078.76415945, 36607764.71243852, 33260024.7013911 ,\n",
              "       48801161.06908942, 35776263.76987375, 41410770.9293953 ,\n",
              "       29798882.49653079, 44050673.24037062, 33417161.99586701,\n",
              "       40624575.59587113, 38249052.66434307, 24529203.754018  ,\n",
              "       51429926.32195514, 41801125.10591984, 21894196.58776245,\n",
              "       38015289.20729247, 34179779.57798684, 47145761.98562513,\n",
              "       41754501.58162471, 59299483.79337025, 39857472.96165521,\n",
              "       47590018.23932452, 33921069.53075283, 32373482.79346577,\n",
              "       42788620.53627478, 36988578.846023  , 49123332.15459969,\n",
              "       37359750.40073309, 43030365.95115065, 46291714.46210176,\n",
              "       33164955.39132271, 42782706.60944849, 38458240.13043962,\n",
              "       29446532.28639162, 35463945.99004431, 44361164.7062958 ,\n",
              "       44438495.97344883])"
            ]
          },
          "metadata": {},
          "execution_count": 21
        }
      ]
    },
    {
      "cell_type": "code",
      "source": [
        "#y = fake_data['Office Size'] * m + c\n",
        "#plt.scatter(fake_data['Office Size'], fake_data['yPredict'])\n",
        "#plt.plot(fake_data['Office Size'], fake_data['yPredict'], \"Pink\")\n",
        "\n",
        "y = fake_data['Office Size'] * m + c\n",
        "plt.figure(figsize=(8,6))\n",
        "plt.scatter(fake_data['Office Size'], fake_data['yPredict'])\n",
        "plt.plot(fake_data['Office Size'], fake_data['y'])\n",
        "plt.title('Office Price Prediction')\n",
        "plt.xlabel('Size')\n",
        "plt.ylabel('Price')\n",
        "plt.show()"
      ],
      "metadata": {
        "colab": {
          "base_uri": "https://localhost:8080/",
          "height": 252
        },
        "id": "aYGkbFU4Cugj",
        "outputId": "426daccf-6236-4b1e-ed2b-1e33a1adac63"
      },
      "execution_count": 28,
      "outputs": [
        {
          "output_type": "error",
          "ename": "KeyError",
          "evalue": "ignored",
          "traceback": [
            "\u001b[0;31m---------------------------------------------------------------------------\u001b[0m",
            "\u001b[0;31mKeyError\u001b[0m                                  Traceback (most recent call last)",
            "\u001b[0;32m<ipython-input-28-bd75b6b211fe>\u001b[0m in \u001b[0;36m<module>\u001b[0;34m()\u001b[0m\n\u001b[1;32m      4\u001b[0m \u001b[0my\u001b[0m \u001b[0;34m=\u001b[0m \u001b[0mfake_data\u001b[0m\u001b[0;34m[\u001b[0m\u001b[0;34m'Office Size'\u001b[0m\u001b[0;34m]\u001b[0m \u001b[0;34m*\u001b[0m \u001b[0mm\u001b[0m \u001b[0;34m+\u001b[0m \u001b[0mc\u001b[0m\u001b[0;34m\u001b[0m\u001b[0;34m\u001b[0m\u001b[0m\n\u001b[1;32m      5\u001b[0m \u001b[0mplt\u001b[0m\u001b[0;34m.\u001b[0m\u001b[0mfigure\u001b[0m\u001b[0;34m(\u001b[0m\u001b[0mfigsize\u001b[0m\u001b[0;34m=\u001b[0m\u001b[0;34m(\u001b[0m\u001b[0;36m8\u001b[0m\u001b[0;34m,\u001b[0m\u001b[0;36m6\u001b[0m\u001b[0;34m)\u001b[0m\u001b[0;34m)\u001b[0m\u001b[0;34m\u001b[0m\u001b[0;34m\u001b[0m\u001b[0m\n\u001b[0;32m----> 6\u001b[0;31m \u001b[0mplt\u001b[0m\u001b[0;34m.\u001b[0m\u001b[0mscatter\u001b[0m\u001b[0;34m(\u001b[0m\u001b[0mfake_data\u001b[0m\u001b[0;34m[\u001b[0m\u001b[0;34m'Office Size'\u001b[0m\u001b[0;34m]\u001b[0m\u001b[0;34m,\u001b[0m \u001b[0mfake_data\u001b[0m\u001b[0;34m[\u001b[0m\u001b[0;34m'yPredict'\u001b[0m\u001b[0;34m]\u001b[0m\u001b[0;34m)\u001b[0m\u001b[0;34m\u001b[0m\u001b[0;34m\u001b[0m\u001b[0m\n\u001b[0m\u001b[1;32m      7\u001b[0m \u001b[0mplt\u001b[0m\u001b[0;34m.\u001b[0m\u001b[0mplot\u001b[0m\u001b[0;34m(\u001b[0m\u001b[0mfake_data\u001b[0m\u001b[0;34m[\u001b[0m\u001b[0;34m'Office Size'\u001b[0m\u001b[0;34m]\u001b[0m\u001b[0;34m,\u001b[0m \u001b[0mfake_data\u001b[0m\u001b[0;34m[\u001b[0m\u001b[0;34m'y'\u001b[0m\u001b[0;34m]\u001b[0m\u001b[0;34m)\u001b[0m\u001b[0;34m\u001b[0m\u001b[0;34m\u001b[0m\u001b[0m\n\u001b[1;32m      8\u001b[0m \u001b[0mplt\u001b[0m\u001b[0;34m.\u001b[0m\u001b[0mtitle\u001b[0m\u001b[0;34m(\u001b[0m\u001b[0;34m'Office Price Prediction'\u001b[0m\u001b[0;34m)\u001b[0m\u001b[0;34m\u001b[0m\u001b[0;34m\u001b[0m\u001b[0m\n",
            "\u001b[0;31mKeyError\u001b[0m: 'yPredict'"
          ]
        },
        {
          "output_type": "display_data",
          "data": {
            "text/plain": [
              "<Figure size 576x432 with 0 Axes>"
            ]
          },
          "metadata": {}
        }
      ]
    },
    {
      "cell_type": "code",
      "source": [
        ""
      ],
      "metadata": {
        "id": "jAcqLq5m8jzK"
      },
      "execution_count": null,
      "outputs": []
    }
  ]
}